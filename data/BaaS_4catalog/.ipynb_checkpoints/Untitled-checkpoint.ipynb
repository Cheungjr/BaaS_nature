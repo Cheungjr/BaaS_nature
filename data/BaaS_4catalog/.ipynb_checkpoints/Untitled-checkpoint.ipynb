{
 "cells": [
  {
   "cell_type": "code",
   "execution_count": 2,
   "id": "fb9b20c8",
   "metadata": {},
   "outputs": [],
   "source": [
    "import torch"
   ]
  },
  {
   "cell_type": "code",
   "execution_count": 3,
   "id": "bc185a35",
   "metadata": {},
   "outputs": [],
   "source": [
    "import torch.nn as nn"
   ]
  },
  {
   "cell_type": "code",
   "execution_count": 4,
   "id": "79c94863",
   "metadata": {},
   "outputs": [],
   "source": [
    "pre = torch.Size([2, 4, 6])\n"
   ]
  },
  {
   "cell_type": "code",
   "execution_count": 6,
   "id": "1a840603",
   "metadata": {},
   "outputs": [
    {
     "name": "stdout",
     "output_type": "stream",
     "text": [
      "torch.Size([2, 4, 6])\n"
     ]
    }
   ],
   "source": [
    "print(pre)\n"
   ]
  },
  {
   "cell_type": "code",
   "execution_count": 15,
   "id": "81254402",
   "metadata": {},
   "outputs": [],
   "source": [
    "tensor = torch.randn(2, 3, 4)\n"
   ]
  },
  {
   "cell_type": "code",
   "execution_count": 16,
   "id": "a1103776",
   "metadata": {},
   "outputs": [
    {
     "name": "stdout",
     "output_type": "stream",
     "text": [
      "tensor([[[ 1.5663,  0.2992, -1.7884,  0.0507],\n",
      "         [-0.7636,  0.8487, -0.6076,  0.0482],\n",
      "         [ 0.5086, -0.6193, -0.7650,  0.2765]],\n",
      "\n",
      "        [[-2.6963, -0.7438, -0.3756,  1.8103],\n",
      "         [ 0.0907,  0.0211, -0.3280, -1.0515],\n",
      "         [-3.0831, -0.3144, -1.1610,  0.2794]]])\n"
     ]
    }
   ],
   "source": [
    "print( tensor)"
   ]
  },
  {
   "cell_type": "code",
   "execution_count": 17,
   "id": "e979f5f7",
   "metadata": {},
   "outputs": [],
   "source": [
    "post = tensor.reshape(2,3,2,2)"
   ]
  },
  {
   "cell_type": "code",
   "execution_count": 18,
   "id": "492c41fd",
   "metadata": {},
   "outputs": [
    {
     "name": "stdout",
     "output_type": "stream",
     "text": [
      "tensor([[[[ 1.5663,  0.2992],\n",
      "          [-1.7884,  0.0507]],\n",
      "\n",
      "         [[-0.7636,  0.8487],\n",
      "          [-0.6076,  0.0482]],\n",
      "\n",
      "         [[ 0.5086, -0.6193],\n",
      "          [-0.7650,  0.2765]]],\n",
      "\n",
      "\n",
      "        [[[-2.6963, -0.7438],\n",
      "          [-0.3756,  1.8103]],\n",
      "\n",
      "         [[ 0.0907,  0.0211],\n",
      "          [-0.3280, -1.0515]],\n",
      "\n",
      "         [[-3.0831, -0.3144],\n",
      "          [-1.1610,  0.2794]]]])\n"
     ]
    }
   ],
   "source": [
    "print(post)"
   ]
  },
  {
   "cell_type": "code",
   "execution_count": 19,
   "id": "7d07fdda",
   "metadata": {},
   "outputs": [
    {
     "ename": "NameError",
     "evalue": "name 'self' is not defined",
     "output_type": "error",
     "traceback": [
      "\u001b[0;31m---------------------------------------------------------------------------\u001b[0m",
      "\u001b[0;31mNameError\u001b[0m                                 Traceback (most recent call last)",
      "Input \u001b[0;32mIn [19]\u001b[0m, in \u001b[0;36m<cell line: 1>\u001b[0;34m()\u001b[0m\n\u001b[0;32m----> 1\u001b[0m \u001b[38;5;28mself\u001b[39m\u001b[38;5;241m.\u001b[39mvalues \u001b[38;5;241m=\u001b[39m nn\u001b[38;5;241m.\u001b[39mLinear(\u001b[38;5;28;43mself\u001b[39;49m\u001b[38;5;241m.\u001b[39mhead_dim, \u001b[38;5;28mself\u001b[39m\u001b[38;5;241m.\u001b[39mhead_dim, bias\u001b[38;5;241m=\u001b[39m\u001b[38;5;28;01mFalse\u001b[39;00m)\n",
      "\u001b[0;31mNameError\u001b[0m: name 'self' is not defined"
     ]
    }
   ],
   "source": [
    "self.values = nn.Linear(self.head_dim, self.head_dim, bias=False)"
   ]
  },
  {
   "cell_type": "code",
   "execution_count": 22,
   "id": "d5bfdddd",
   "metadata": {},
   "outputs": [],
   "source": [
    "def __init__(self, embed_size, heads):\n",
    "        super(SelfAttention, self).__init__()\n",
    "        self.embed_size = embed_size\n",
    "        self.heads = heads\n",
    "        self.head_dim = embed_size // heads\n",
    "        self.values = nn.Linear(self.head_dim, self.head_dim, bias=False)"
   ]
  },
  {
   "cell_type": "code",
   "execution_count": 23,
   "id": "4c9b1a29",
   "metadata": {},
   "outputs": [],
   "source": [
    "lin = nn.Linear(2,2, bias=False)(post)"
   ]
  },
  {
   "cell_type": "code",
   "execution_count": 24,
   "id": "76dd267e",
   "metadata": {},
   "outputs": [
    {
     "name": "stdout",
     "output_type": "stream",
     "text": [
      "tensor([[[[ 1.0409, -0.9110],\n",
      "          [-0.9927,  0.8074]],\n",
      "\n",
      "         [[-0.0111, -0.1460],\n",
      "          [-0.3218,  0.2559]],\n",
      "\n",
      "         [[-0.0196,  0.1292],\n",
      "          [-0.2975,  0.1942]]],\n",
      "\n",
      "\n",
      "        [[[-1.9061,  1.7040],\n",
      "          [ 0.6897, -0.8982]],\n",
      "\n",
      "         [[ 0.0622, -0.0550],\n",
      "          [-0.7115,  0.7775]],\n",
      "\n",
      "         [[-1.9119,  1.6303],\n",
      "          [-0.5214,  0.3779]]]], grad_fn=<UnsafeViewBackward0>)\n"
     ]
    }
   ],
   "source": [
    "print(lin)"
   ]
  },
  {
   "cell_type": "code",
   "execution_count": 3,
   "id": "b8871041",
   "metadata": {},
   "outputs": [],
   "source": [
    "import pandas as pd\n"
   ]
  },
  {
   "cell_type": "code",
   "execution_count": 135,
   "id": "a3abc028",
   "metadata": {},
   "outputs": [],
   "source": [
    "df = pd.read_csv('city_compare/2022-03-01.csv',header=None)"
   ]
  },
  {
   "cell_type": "code",
   "execution_count": 136,
   "id": "31912930",
   "metadata": {},
   "outputs": [
    {
     "data": {
      "text/plain": [
       "(4, 8)"
      ]
     },
     "execution_count": 136,
     "metadata": {},
     "output_type": "execute_result"
    }
   ],
   "source": [
    "df.shape"
   ]
  },
  {
   "cell_type": "code",
   "execution_count": 137,
   "id": "1614397c",
   "metadata": {},
   "outputs": [],
   "source": [
    "output = pd.DataFrame()"
   ]
  },
  {
   "cell_type": "code",
   "execution_count": 138,
   "id": "1a0c6930",
   "metadata": {},
   "outputs": [
    {
     "name": "stdout",
     "output_type": "stream",
     "text": [
      "1\n",
      "2\n",
      "3\n",
      "4\n",
      "5\n",
      "6\n"
     ]
    }
   ],
   "source": [
    "for i in range(1, df.shape[1]-1):\n",
    "    print(i)\n",
    "    avg = (float(df.iloc[3, i]) - float(df.iloc[2, i])) / float(df.iloc[1, i])\n",
    "    output.loc[0,i] = df.iloc[0,i]\n",
    "    output.loc[1,i] = avg"
   ]
  },
  {
   "cell_type": "code",
   "execution_count": 139,
   "id": "b368c3d7",
   "metadata": {},
   "outputs": [
    {
     "data": {
      "text/html": [
       "<div>\n",
       "<style scoped>\n",
       "    .dataframe tbody tr th:only-of-type {\n",
       "        vertical-align: middle;\n",
       "    }\n",
       "\n",
       "    .dataframe tbody tr th {\n",
       "        vertical-align: top;\n",
       "    }\n",
       "\n",
       "    .dataframe thead th {\n",
       "        text-align: right;\n",
       "    }\n",
       "</style>\n",
       "<table border=\"1\" class=\"dataframe\">\n",
       "  <thead>\n",
       "    <tr style=\"text-align: right;\">\n",
       "      <th></th>\n",
       "      <th>1</th>\n",
       "      <th>2</th>\n",
       "      <th>3</th>\n",
       "      <th>4</th>\n",
       "      <th>5</th>\n",
       "      <th>6</th>\n",
       "    </tr>\n",
       "  </thead>\n",
       "  <tbody>\n",
       "    <tr>\n",
       "      <th>0</th>\n",
       "      <td>新一线城市</td>\n",
       "      <td>一线城市</td>\n",
       "      <td>二线城市</td>\n",
       "      <td>三线城市</td>\n",
       "      <td>五线城市</td>\n",
       "      <td>四线城市</td>\n",
       "    </tr>\n",
       "    <tr>\n",
       "      <th>1</th>\n",
       "      <td>3968.325342</td>\n",
       "      <td>5793.90633</td>\n",
       "      <td>4486.182244</td>\n",
       "      <td>4473.7132</td>\n",
       "      <td>1478.741</td>\n",
       "      <td>3206.36475</td>\n",
       "    </tr>\n",
       "  </tbody>\n",
       "</table>\n",
       "</div>"
      ],
      "text/plain": [
       "             1           2            3          4         5           6\n",
       "0        新一线城市        一线城市         二线城市       三线城市      五线城市        四线城市\n",
       "1  3968.325342  5793.90633  4486.182244  4473.7132  1478.741  3206.36475"
      ]
     },
     "execution_count": 139,
     "metadata": {},
     "output_type": "execute_result"
    }
   ],
   "source": [
    "output"
   ]
  },
  {
   "cell_type": "code",
   "execution_count": 134,
   "id": "b992d90d",
   "metadata": {},
   "outputs": [
    {
     "name": "stdout",
     "output_type": "stream",
     "text": [
      "1\n",
      "2\n",
      "3\n",
      "4\n",
      "5\n"
     ]
    }
   ],
   "source": [
    "df = pd.read_csv('city_compare/2022-09-01.csv',header=None)"
   ]
  },
  {
   "cell_type": "code",
   "execution_count": 29,
   "id": "59ae93e3",
   "metadata": {},
   "outputs": [
    {
     "data": {
      "text/plain": [
       "0                轨迹二里程数\n",
       "1     89943164.97999999\n",
       "2    19369106.837000005\n",
       "3     58384603.46199997\n",
       "4     5542687.044999999\n",
       "5    25852.144000000004\n",
       "6    224062.35699999996\n",
       "7            2022-03-01\n",
       "Name: 3, dtype: object"
      ]
     },
     "execution_count": 29,
     "metadata": {},
     "output_type": "execute_result"
    }
   ],
   "source": [
    "df.iloc[3, 1:]"
   ]
  },
  {
   "cell_type": "code",
   "execution_count": 30,
   "id": "8d8a05bc",
   "metadata": {},
   "outputs": [],
   "source": [
    "s_int = df.iloc[3, 1:-1].astype(float)"
   ]
  },
  {
   "cell_type": "code",
   "execution_count": 32,
   "id": "71c4661f",
   "metadata": {},
   "outputs": [
    {
     "data": {
      "text/plain": [
       "1    5075488.112\n",
       "2    1089254.390\n",
       "3    3288371.585\n",
       "4     313159.924\n",
       "5       1478.741\n",
       "6      12825.459\n",
       "dtype: float64"
      ]
     },
     "execution_count": 32,
     "metadata": {},
     "output_type": "execute_result"
    }
   ],
   "source": [
    "df.iloc[3, 1:-1].astype(float) - df.iloc[2, 1:-1].astype(float)"
   ]
  },
  {
   "cell_type": "code",
   "execution_count": 38,
   "id": "a7c4f363",
   "metadata": {},
   "outputs": [],
   "source": [
    "result = (df.iloc[3, 1:-1].astype(float) - df.iloc[2, 1:-1].astype(float)) / df.iloc[1, 1:-1].astype(float)\n"
   ]
  },
  {
   "cell_type": "code",
   "execution_count": 39,
   "id": "5f79fe39",
   "metadata": {},
   "outputs": [
    {
     "data": {
      "text/plain": [
       "1    3968.325342\n",
       "2    5793.906330\n",
       "3    4486.182244\n",
       "4    4473.713200\n",
       "5    1478.741000\n",
       "6    3206.364750\n",
       "dtype: float64"
      ]
     },
     "execution_count": 39,
     "metadata": {},
     "output_type": "execute_result"
    }
   ],
   "source": [
    "result"
   ]
  },
  {
   "cell_type": "code",
   "execution_count": 37,
   "id": "6e6b3a12",
   "metadata": {},
   "outputs": [
    {
     "data": {
      "text/plain": [
       "1    1279.0\n",
       "2     188.0\n",
       "3     733.0\n",
       "4      70.0\n",
       "5       1.0\n",
       "6       4.0\n",
       "Name: 1, dtype: float64"
      ]
     },
     "execution_count": 37,
     "metadata": {},
     "output_type": "execute_result"
    }
   ],
   "source": [
    "df.iloc[1, 1:-1].astype(float)"
   ]
  },
  {
   "cell_type": "code",
   "execution_count": 40,
   "id": "c774d797",
   "metadata": {},
   "outputs": [
    {
     "ename": "AttributeError",
     "evalue": "'Series' object has no attribute 'apped'",
     "output_type": "error",
     "traceback": [
      "\u001b[0;31m---------------------------------------------------------------------------\u001b[0m",
      "\u001b[0;31mAttributeError\u001b[0m                            Traceback (most recent call last)",
      "Input \u001b[0;32mIn [40]\u001b[0m, in \u001b[0;36m<cell line: 1>\u001b[0;34m()\u001b[0m\n\u001b[0;32m----> 1\u001b[0m \u001b[43mresult\u001b[49m\u001b[38;5;241;43m.\u001b[39;49m\u001b[43mapped\u001b[49m(df\u001b[38;5;241m.\u001b[39miloc[:, \u001b[38;5;241m-\u001b[39m\u001b[38;5;241m1\u001b[39m])\n",
      "File \u001b[0;32m/Library/Frameworks/Python.framework/Versions/3.10/lib/python3.10/site-packages/pandas/core/generic.py:6293\u001b[0m, in \u001b[0;36mNDFrame.__getattr__\u001b[0;34m(self, name)\u001b[0m\n\u001b[1;32m   6286\u001b[0m \u001b[38;5;28;01mif\u001b[39;00m (\n\u001b[1;32m   6287\u001b[0m     name \u001b[38;5;129;01mnot\u001b[39;00m \u001b[38;5;129;01min\u001b[39;00m \u001b[38;5;28mself\u001b[39m\u001b[38;5;241m.\u001b[39m_internal_names_set\n\u001b[1;32m   6288\u001b[0m     \u001b[38;5;129;01mand\u001b[39;00m name \u001b[38;5;129;01mnot\u001b[39;00m \u001b[38;5;129;01min\u001b[39;00m \u001b[38;5;28mself\u001b[39m\u001b[38;5;241m.\u001b[39m_metadata\n\u001b[1;32m   6289\u001b[0m     \u001b[38;5;129;01mand\u001b[39;00m name \u001b[38;5;129;01mnot\u001b[39;00m \u001b[38;5;129;01min\u001b[39;00m \u001b[38;5;28mself\u001b[39m\u001b[38;5;241m.\u001b[39m_accessors\n\u001b[1;32m   6290\u001b[0m     \u001b[38;5;129;01mand\u001b[39;00m \u001b[38;5;28mself\u001b[39m\u001b[38;5;241m.\u001b[39m_info_axis\u001b[38;5;241m.\u001b[39m_can_hold_identifiers_and_holds_name(name)\n\u001b[1;32m   6291\u001b[0m ):\n\u001b[1;32m   6292\u001b[0m     \u001b[38;5;28;01mreturn\u001b[39;00m \u001b[38;5;28mself\u001b[39m[name]\n\u001b[0;32m-> 6293\u001b[0m \u001b[38;5;28;01mreturn\u001b[39;00m \u001b[38;5;28;43mobject\u001b[39;49m\u001b[38;5;241;43m.\u001b[39;49m\u001b[38;5;21;43m__getattribute__\u001b[39;49m\u001b[43m(\u001b[49m\u001b[38;5;28;43mself\u001b[39;49m\u001b[43m,\u001b[49m\u001b[43m \u001b[49m\u001b[43mname\u001b[49m\u001b[43m)\u001b[49m\n",
      "\u001b[0;31mAttributeError\u001b[0m: 'Series' object has no attribute 'apped'"
     ]
    }
   ],
   "source": [
    "result.apped(df.iloc[:, -1])"
   ]
  },
  {
   "cell_type": "code",
   "execution_count": 41,
   "id": "6d3da7c2",
   "metadata": {},
   "outputs": [
    {
     "ename": "AttributeError",
     "evalue": "'Series' object has no attribute 'append'",
     "output_type": "error",
     "traceback": [
      "\u001b[0;31m---------------------------------------------------------------------------\u001b[0m",
      "\u001b[0;31mAttributeError\u001b[0m                            Traceback (most recent call last)",
      "Input \u001b[0;32mIn [41]\u001b[0m, in \u001b[0;36m<cell line: 1>\u001b[0;34m()\u001b[0m\n\u001b[0;32m----> 1\u001b[0m new_df \u001b[38;5;241m=\u001b[39m \u001b[43mdf\u001b[49m\u001b[38;5;241;43m.\u001b[39;49m\u001b[43miloc\u001b[49m\u001b[43m[\u001b[49m\u001b[38;5;241;43m0\u001b[39;49m\u001b[43m,\u001b[49m\u001b[43m \u001b[49m\u001b[38;5;241;43m1\u001b[39;49m\u001b[43m:\u001b[49m\u001b[38;5;241;43m-\u001b[39;49m\u001b[38;5;241;43m1\u001b[39;49m\u001b[43m]\u001b[49m\u001b[38;5;241;43m.\u001b[39;49m\u001b[43mappend\u001b[49m(result, ignore_index\u001b[38;5;241m=\u001b[39m\u001b[38;5;28;01mTrue\u001b[39;00m)\n",
      "File \u001b[0;32m/Library/Frameworks/Python.framework/Versions/3.10/lib/python3.10/site-packages/pandas/core/generic.py:6293\u001b[0m, in \u001b[0;36mNDFrame.__getattr__\u001b[0;34m(self, name)\u001b[0m\n\u001b[1;32m   6286\u001b[0m \u001b[38;5;28;01mif\u001b[39;00m (\n\u001b[1;32m   6287\u001b[0m     name \u001b[38;5;129;01mnot\u001b[39;00m \u001b[38;5;129;01min\u001b[39;00m \u001b[38;5;28mself\u001b[39m\u001b[38;5;241m.\u001b[39m_internal_names_set\n\u001b[1;32m   6288\u001b[0m     \u001b[38;5;129;01mand\u001b[39;00m name \u001b[38;5;129;01mnot\u001b[39;00m \u001b[38;5;129;01min\u001b[39;00m \u001b[38;5;28mself\u001b[39m\u001b[38;5;241m.\u001b[39m_metadata\n\u001b[1;32m   6289\u001b[0m     \u001b[38;5;129;01mand\u001b[39;00m name \u001b[38;5;129;01mnot\u001b[39;00m \u001b[38;5;129;01min\u001b[39;00m \u001b[38;5;28mself\u001b[39m\u001b[38;5;241m.\u001b[39m_accessors\n\u001b[1;32m   6290\u001b[0m     \u001b[38;5;129;01mand\u001b[39;00m \u001b[38;5;28mself\u001b[39m\u001b[38;5;241m.\u001b[39m_info_axis\u001b[38;5;241m.\u001b[39m_can_hold_identifiers_and_holds_name(name)\n\u001b[1;32m   6291\u001b[0m ):\n\u001b[1;32m   6292\u001b[0m     \u001b[38;5;28;01mreturn\u001b[39;00m \u001b[38;5;28mself\u001b[39m[name]\n\u001b[0;32m-> 6293\u001b[0m \u001b[38;5;28;01mreturn\u001b[39;00m \u001b[38;5;28;43mobject\u001b[39;49m\u001b[38;5;241;43m.\u001b[39;49m\u001b[38;5;21;43m__getattribute__\u001b[39;49m\u001b[43m(\u001b[49m\u001b[38;5;28;43mself\u001b[39;49m\u001b[43m,\u001b[49m\u001b[43m \u001b[49m\u001b[43mname\u001b[49m\u001b[43m)\u001b[49m\n",
      "\u001b[0;31mAttributeError\u001b[0m: 'Series' object has no attribute 'append'"
     ]
    }
   ],
   "source": [
    "new_df = df.iloc[0, 1:-1].append(result, ignore_index=True)"
   ]
  },
  {
   "cell_type": "code",
   "execution_count": 42,
   "id": "e1d5a7b6",
   "metadata": {},
   "outputs": [
    {
     "data": {
      "text/plain": [
       "1    新一线城市\n",
       "2     一线城市\n",
       "3     二线城市\n",
       "4     三线城市\n",
       "5     五线城市\n",
       "6     四线城市\n",
       "Name: 0, dtype: object"
      ]
     },
     "execution_count": 42,
     "metadata": {},
     "output_type": "execute_result"
    }
   ],
   "source": [
    "df.iloc[0, 1:-1]"
   ]
  },
  {
   "cell_type": "code",
   "execution_count": 43,
   "id": "69d2618e",
   "metadata": {},
   "outputs": [
    {
     "data": {
      "text/plain": [
       "1    3968.325342\n",
       "2    5793.906330\n",
       "3    4486.182244\n",
       "4    4473.713200\n",
       "5    1478.741000\n",
       "6    3206.364750\n",
       "dtype: float64"
      ]
     },
     "execution_count": 43,
     "metadata": {},
     "output_type": "execute_result"
    }
   ],
   "source": [
    "result"
   ]
  },
  {
   "cell_type": "code",
   "execution_count": 65,
   "id": "58346c7b",
   "metadata": {},
   "outputs": [
    {
     "data": {
      "text/html": [
       "<div>\n",
       "<style scoped>\n",
       "    .dataframe tbody tr th:only-of-type {\n",
       "        vertical-align: middle;\n",
       "    }\n",
       "\n",
       "    .dataframe tbody tr th {\n",
       "        vertical-align: top;\n",
       "    }\n",
       "\n",
       "    .dataframe thead th {\n",
       "        text-align: right;\n",
       "    }\n",
       "</style>\n",
       "<table border=\"1\" class=\"dataframe\">\n",
       "  <thead>\n",
       "    <tr style=\"text-align: right;\">\n",
       "      <th></th>\n",
       "      <th>0</th>\n",
       "      <th>1</th>\n",
       "      <th>2</th>\n",
       "      <th>3</th>\n",
       "      <th>4</th>\n",
       "      <th>5</th>\n",
       "      <th>6</th>\n",
       "    </tr>\n",
       "  </thead>\n",
       "  <tbody>\n",
       "    <tr>\n",
       "      <th>0</th>\n",
       "      <td>NaN</td>\n",
       "      <td>新一线城市</td>\n",
       "      <td>一线城市</td>\n",
       "      <td>二线城市</td>\n",
       "      <td>三线城市</td>\n",
       "      <td>五线城市</td>\n",
       "      <td>四线城市</td>\n",
       "    </tr>\n",
       "  </tbody>\n",
       "</table>\n",
       "</div>"
      ],
      "text/plain": [
       "     0      1     2     3     4     5     6\n",
       "0  NaN  新一线城市  一线城市  二线城市  三线城市  五线城市  四线城市"
      ]
     },
     "execution_count": 65,
     "metadata": {},
     "output_type": "execute_result"
    }
   ],
   "source": [
    "df.iloc[:1,:-1]"
   ]
  },
  {
   "cell_type": "code",
   "execution_count": 53,
   "id": "0822bb16",
   "metadata": {},
   "outputs": [
    {
     "ename": "NameError",
     "evalue": "name 'result_list' is not defined",
     "output_type": "error",
     "traceback": [
      "\u001b[0;31m---------------------------------------------------------------------------\u001b[0m",
      "\u001b[0;31mNameError\u001b[0m                                 Traceback (most recent call last)",
      "Input \u001b[0;32mIn [53]\u001b[0m, in \u001b[0;36m<cell line: 1>\u001b[0;34m()\u001b[0m\n\u001b[0;32m----> 1\u001b[0m \u001b[43mresult_list\u001b[49m\u001b[38;5;241m.\u001b[39miloc[\u001b[38;5;241m0\u001b[39m] \u001b[38;5;241m=\u001b[39m df\u001b[38;5;241m.\u001b[39miloc[\u001b[38;5;241m0\u001b[39m, \u001b[38;5;241m1\u001b[39m:\u001b[38;5;241m-\u001b[39m\u001b[38;5;241m1\u001b[39m]\n",
      "\u001b[0;31mNameError\u001b[0m: name 'result_list' is not defined"
     ]
    }
   ],
   "source": [
    "output = df.iloc[:1,:-1]"
   ]
  },
  {
   "cell_type": "code",
   "execution_count": 66,
   "id": "f05165ee",
   "metadata": {},
   "outputs": [
    {
     "data": {
      "text/plain": [
       "(6,)"
      ]
     },
     "execution_count": 66,
     "metadata": {},
     "output_type": "execute_result"
    }
   ],
   "source": [
    "result.shape"
   ]
  },
  {
   "cell_type": "code",
   "execution_count": 67,
   "id": "4d2353c8",
   "metadata": {},
   "outputs": [
    {
     "data": {
      "text/plain": [
       "1    3968.325342\n",
       "2    5793.906330\n",
       "3    4486.182244\n",
       "4    4473.713200\n",
       "5    1478.741000\n",
       "6    3206.364750\n",
       "dtype: float64"
      ]
     },
     "execution_count": 67,
     "metadata": {},
     "output_type": "execute_result"
    }
   ],
   "source": [
    "result"
   ]
  },
  {
   "cell_type": "code",
   "execution_count": 109,
   "id": "9664b5e1",
   "metadata": {},
   "outputs": [],
   "source": [
    "output = pd.DataFrame()"
   ]
  },
  {
   "cell_type": "code",
   "execution_count": 111,
   "id": "dbc6aaae",
   "metadata": {},
   "outputs": [],
   "source": [
    "for i in range(1,df.shape[1] - 1):\n",
    "    avg = (float(df.iloc[3, i]) - float(df.iloc[2, i])) / float(df.iloc[1, i])\n",
    "    output.loc[0,i] = df.iloc[0,i]\n",
    "    output.loc[1,i] = avg"
   ]
  },
  {
   "cell_type": "code",
   "execution_count": 112,
   "id": "16650780",
   "metadata": {},
   "outputs": [
    {
     "data": {
      "text/html": [
       "<div>\n",
       "<style scoped>\n",
       "    .dataframe tbody tr th:only-of-type {\n",
       "        vertical-align: middle;\n",
       "    }\n",
       "\n",
       "    .dataframe tbody tr th {\n",
       "        vertical-align: top;\n",
       "    }\n",
       "\n",
       "    .dataframe thead th {\n",
       "        text-align: right;\n",
       "    }\n",
       "</style>\n",
       "<table border=\"1\" class=\"dataframe\">\n",
       "  <thead>\n",
       "    <tr style=\"text-align: right;\">\n",
       "      <th></th>\n",
       "      <th>1</th>\n",
       "      <th>2</th>\n",
       "      <th>3</th>\n",
       "      <th>4</th>\n",
       "      <th>5</th>\n",
       "      <th>6</th>\n",
       "    </tr>\n",
       "  </thead>\n",
       "  <tbody>\n",
       "    <tr>\n",
       "      <th>0</th>\n",
       "      <td>新一线城市</td>\n",
       "      <td>一线城市</td>\n",
       "      <td>二线城市</td>\n",
       "      <td>三线城市</td>\n",
       "      <td>五线城市</td>\n",
       "      <td>四线城市</td>\n",
       "    </tr>\n",
       "    <tr>\n",
       "      <th>1</th>\n",
       "      <td>3968.325342</td>\n",
       "      <td>5793.90633</td>\n",
       "      <td>4486.182244</td>\n",
       "      <td>4473.7132</td>\n",
       "      <td>1478.741</td>\n",
       "      <td>3206.36475</td>\n",
       "    </tr>\n",
       "  </tbody>\n",
       "</table>\n",
       "</div>"
      ],
      "text/plain": [
       "             1           2            3          4         5           6\n",
       "0        新一线城市        一线城市         二线城市       三线城市      五线城市        四线城市\n",
       "1  3968.325342  5793.90633  4486.182244  4473.7132  1478.741  3206.36475"
      ]
     },
     "execution_count": 112,
     "metadata": {},
     "output_type": "execute_result"
    }
   ],
   "source": [
    "output"
   ]
  },
  {
   "cell_type": "code",
   "execution_count": 108,
   "id": "0cbebec5",
   "metadata": {},
   "outputs": [
    {
     "ename": "IndexError",
     "evalue": "iloc cannot enlarge its target object",
     "output_type": "error",
     "traceback": [
      "\u001b[0;31m---------------------------------------------------------------------------\u001b[0m",
      "\u001b[0;31mIndexError\u001b[0m                                Traceback (most recent call last)",
      "Input \u001b[0;32mIn [108]\u001b[0m, in \u001b[0;36m<cell line: 1>\u001b[0;34m()\u001b[0m\n\u001b[0;32m----> 1\u001b[0m tmp\u001b[38;5;241m.\u001b[39miloc[\u001b[38;5;241m0\u001b[39m] \u001b[38;5;241m=\u001b[39m [\u001b[38;5;241m1\u001b[39m,\u001b[38;5;241m2\u001b[39m,\u001b[38;5;241m3\u001b[39m]\n",
      "File \u001b[0;32m/Library/Frameworks/Python.framework/Versions/3.10/lib/python3.10/site-packages/pandas/core/indexing.py:909\u001b[0m, in \u001b[0;36m_LocationIndexer.__setitem__\u001b[0;34m(self, key, value)\u001b[0m\n\u001b[1;32m    907\u001b[0m     key \u001b[38;5;241m=\u001b[39m \u001b[38;5;28mself\u001b[39m\u001b[38;5;241m.\u001b[39m_check_deprecated_callable_usage(key, maybe_callable)\n\u001b[1;32m    908\u001b[0m indexer \u001b[38;5;241m=\u001b[39m \u001b[38;5;28mself\u001b[39m\u001b[38;5;241m.\u001b[39m_get_setitem_indexer(key)\n\u001b[0;32m--> 909\u001b[0m \u001b[38;5;28;43mself\u001b[39;49m\u001b[38;5;241;43m.\u001b[39;49m\u001b[43m_has_valid_setitem_indexer\u001b[49m\u001b[43m(\u001b[49m\u001b[43mkey\u001b[49m\u001b[43m)\u001b[49m\n\u001b[1;32m    911\u001b[0m iloc \u001b[38;5;241m=\u001b[39m \u001b[38;5;28mself\u001b[39m \u001b[38;5;28;01mif\u001b[39;00m \u001b[38;5;28mself\u001b[39m\u001b[38;5;241m.\u001b[39mname \u001b[38;5;241m==\u001b[39m \u001b[38;5;124m\"\u001b[39m\u001b[38;5;124miloc\u001b[39m\u001b[38;5;124m\"\u001b[39m \u001b[38;5;28;01melse\u001b[39;00m \u001b[38;5;28mself\u001b[39m\u001b[38;5;241m.\u001b[39mobj\u001b[38;5;241m.\u001b[39miloc\n\u001b[1;32m    912\u001b[0m iloc\u001b[38;5;241m.\u001b[39m_setitem_with_indexer(indexer, value, \u001b[38;5;28mself\u001b[39m\u001b[38;5;241m.\u001b[39mname)\n",
      "File \u001b[0;32m/Library/Frameworks/Python.framework/Versions/3.10/lib/python3.10/site-packages/pandas/core/indexing.py:1647\u001b[0m, in \u001b[0;36m_iLocIndexer._has_valid_setitem_indexer\u001b[0;34m(self, indexer)\u001b[0m\n\u001b[1;32m   1645\u001b[0m \u001b[38;5;28;01melif\u001b[39;00m is_integer(i):\n\u001b[1;32m   1646\u001b[0m     \u001b[38;5;28;01mif\u001b[39;00m i \u001b[38;5;241m>\u001b[39m\u001b[38;5;241m=\u001b[39m \u001b[38;5;28mlen\u001b[39m(ax):\n\u001b[0;32m-> 1647\u001b[0m         \u001b[38;5;28;01mraise\u001b[39;00m \u001b[38;5;167;01mIndexError\u001b[39;00m(\u001b[38;5;124m\"\u001b[39m\u001b[38;5;124miloc cannot enlarge its target object\u001b[39m\u001b[38;5;124m\"\u001b[39m)\n\u001b[1;32m   1648\u001b[0m \u001b[38;5;28;01melif\u001b[39;00m \u001b[38;5;28misinstance\u001b[39m(i, \u001b[38;5;28mdict\u001b[39m):\n\u001b[1;32m   1649\u001b[0m     \u001b[38;5;28;01mraise\u001b[39;00m \u001b[38;5;167;01mIndexError\u001b[39;00m(\u001b[38;5;124m\"\u001b[39m\u001b[38;5;124miloc cannot enlarge its target object\u001b[39m\u001b[38;5;124m\"\u001b[39m)\n",
      "\u001b[0;31mIndexError\u001b[0m: iloc cannot enlarge its target object"
     ]
    }
   ],
   "source": [
    "tmp.iloc[0] = [1,2,3]"
   ]
  },
  {
   "cell_type": "code",
   "execution_count": 99,
   "id": "84d33d22",
   "metadata": {},
   "outputs": [
    {
     "name": "stdout",
     "output_type": "stream",
     "text": [
      "        1      2      3     4     5     6\n",
      "0   新一线城市   一线城市   二线城市  三线城市  五线城市  四线城市\n",
      "1  1279.0  188.0  733.0  70.0   1.0   4.0\n"
     ]
    }
   ],
   "source": [
    "print(df.iloc[:2,1:-1])"
   ]
  },
  {
   "cell_type": "markdown",
   "id": "a715faac",
   "metadata": {},
   "source": [
    "df = pd.read_csv('cityrank_result.csv', header=None)"
   ]
  },
  {
   "cell_type": "code",
   "execution_count": 140,
   "id": "7196deb2",
   "metadata": {},
   "outputs": [],
   "source": [
    "df = pd.read_csv('cityrank_result.csv', header=None)\n"
   ]
  },
  {
   "cell_type": "code",
   "execution_count": 141,
   "id": "09a6287f",
   "metadata": {},
   "outputs": [],
   "source": [
    "categories = df.iloc[0, 1:].tolist() "
   ]
  },
  {
   "cell_type": "code",
   "execution_count": 143,
   "id": "59eeae48",
   "metadata": {},
   "outputs": [
    {
     "data": {
      "text/html": [
       "<div>\n",
       "<style scoped>\n",
       "    .dataframe tbody tr th:only-of-type {\n",
       "        vertical-align: middle;\n",
       "    }\n",
       "\n",
       "    .dataframe tbody tr th {\n",
       "        vertical-align: top;\n",
       "    }\n",
       "\n",
       "    .dataframe thead th {\n",
       "        text-align: right;\n",
       "    }\n",
       "</style>\n",
       "<table border=\"1\" class=\"dataframe\">\n",
       "  <thead>\n",
       "    <tr style=\"text-align: right;\">\n",
       "      <th></th>\n",
       "      <th>0</th>\n",
       "      <th>1</th>\n",
       "      <th>2</th>\n",
       "      <th>3</th>\n",
       "      <th>4</th>\n",
       "    </tr>\n",
       "  </thead>\n",
       "  <tbody>\n",
       "    <tr>\n",
       "      <th>0</th>\n",
       "      <td>1</td>\n",
       "      <td>2</td>\n",
       "      <td>3</td>\n",
       "      <td>4</td>\n",
       "      <td>5</td>\n",
       "    </tr>\n",
       "    <tr>\n",
       "      <th>1</th>\n",
       "      <td>一线城市</td>\n",
       "      <td>新一线城市</td>\n",
       "      <td>二线城市</td>\n",
       "      <td>三线城市</td>\n",
       "      <td>四线城市</td>\n",
       "    </tr>\n",
       "    <tr>\n",
       "      <th>2</th>\n",
       "      <td>4.273151590887214</td>\n",
       "      <td>4.221855446018742</td>\n",
       "      <td>3.611423454375863</td>\n",
       "      <td>3.7727902877405417</td>\n",
       "      <td>9.060174936729933</td>\n",
       "    </tr>\n",
       "  </tbody>\n",
       "</table>\n",
       "</div>"
      ],
      "text/plain": [
       "                   0                  1                  2  \\\n",
       "0                  1                  2                  3   \n",
       "1               一线城市              新一线城市               二线城市   \n",
       "2  4.273151590887214  4.221855446018742  3.611423454375863   \n",
       "\n",
       "                    3                  4  \n",
       "0                   4                  5  \n",
       "1                三线城市               四线城市  \n",
       "2  3.7727902877405417  9.060174936729933  "
      ]
     },
     "execution_count": 143,
     "metadata": {},
     "output_type": "execute_result"
    }
   ],
   "source": [
    "df\n"
   ]
  },
  {
   "cell_type": "code",
   "execution_count": 148,
   "id": "c76dfd37",
   "metadata": {},
   "outputs": [
    {
     "data": {
      "text/plain": [
       "0     一线城市\n",
       "1    新一线城市\n",
       "2     二线城市\n",
       "3     三线城市\n",
       "4     四线城市\n",
       "Name: 1, dtype: object"
      ]
     },
     "execution_count": 148,
     "metadata": {},
     "output_type": "execute_result"
    }
   ],
   "source": [
    "df.iloc[1, :]"
   ]
  },
  {
   "cell_type": "code",
   "execution_count": 149,
   "id": "c9396ed6",
   "metadata": {},
   "outputs": [],
   "source": [
    "rat_list = [[7.98,10.61,7.6,6.83,12.2,5.41,6.71,12.09,9.16,7.07,9.05,5.11,8.02,6.34,5.56,7.63,10.57,8.42,7.98,7.49,8.7,9.96],zeros_list = [0] * 22,zeros_list = [0] * 22,]\n"
   ]
  },
  {
   "cell_type": "code",
   "execution_count": 151,
   "id": "95d67f2e",
   "metadata": {},
   "outputs": [
    {
     "data": {
      "text/plain": [
       "3"
      ]
     },
     "execution_count": 151,
     "metadata": {},
     "output_type": "execute_result"
    }
   ],
   "source": [
    "len(rat_list)\n",
    "\n"
   ]
  },
  {
   "cell_type": "code",
   "execution_count": 153,
   "id": "d7f5f6d8",
   "metadata": {},
   "outputs": [
    {
     "data": {
      "text/plain": [
       "0"
      ]
     },
     "execution_count": 153,
     "metadata": {},
     "output_type": "execute_result"
    }
   ],
   "source": [
    "len(rat_list[1])"
   ]
  },
  {
   "cell_type": "code",
   "execution_count": 154,
   "id": "0f202881",
   "metadata": {},
   "outputs": [
    {
     "ename": "IndexError",
     "evalue": "list index out of range",
     "output_type": "error",
     "traceback": [
      "\u001b[0;31m---------------------------------------------------------------------------\u001b[0m",
      "\u001b[0;31mIndexError\u001b[0m                                Traceback (most recent call last)",
      "Input \u001b[0;32mIn [154]\u001b[0m, in \u001b[0;36m<cell line: 1>\u001b[0;34m()\u001b[0m\n\u001b[0;32m----> 1\u001b[0m \u001b[43mrat_list\u001b[49m\u001b[43m[\u001b[49m\u001b[38;5;241;43m1\u001b[39;49m\u001b[43m]\u001b[49m\u001b[43m[\u001b[49m\u001b[38;5;241;43m1\u001b[39;49m\u001b[43m]\u001b[49m\n",
      "\u001b[0;31mIndexError\u001b[0m: list index out of range"
     ]
    }
   ],
   "source": [
    "rat_list[1][1]"
   ]
  },
  {
   "cell_type": "code",
   "execution_count": 155,
   "id": "bbe6b0bd",
   "metadata": {},
   "outputs": [],
   "source": [
    "zeros_list = [0] * 22"
   ]
  },
  {
   "cell_type": "code",
   "execution_count": 156,
   "id": "0beae0c9",
   "metadata": {},
   "outputs": [
    {
     "data": {
      "text/plain": [
       "[0, 0, 0, 0, 0, 0, 0, 0, 0, 0, 0, 0, 0, 0, 0, 0, 0, 0, 0, 0, 0, 0]"
      ]
     },
     "execution_count": 156,
     "metadata": {},
     "output_type": "execute_result"
    }
   ],
   "source": [
    "zeros_list\n"
   ]
  },
  {
   "cell_type": "code",
   "execution_count": null,
   "id": "cc146ebc",
   "metadata": {},
   "outputs": [],
   "source": []
  }
 ],
 "metadata": {
  "kernelspec": {
   "display_name": "Python 3 (ipykernel)",
   "language": "python",
   "name": "python3"
  },
  "language_info": {
   "codemirror_mode": {
    "name": "ipython",
    "version": 3
   },
   "file_extension": ".py",
   "mimetype": "text/x-python",
   "name": "python",
   "nbconvert_exporter": "python",
   "pygments_lexer": "ipython3",
   "version": "3.10.4"
  }
 },
 "nbformat": 4,
 "nbformat_minor": 5
}
